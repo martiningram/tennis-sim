{
 "cells": [
  {
   "cell_type": "code",
   "execution_count": 1,
   "metadata": {},
   "outputs": [],
   "source": [
    "from simulate import play_service_game, iid_spw_function, play_tiebreak, play_set, play_match\n",
    "from functools import partial\n",
    "import pandas as pd\n",
    "\n",
    "spw_fun = partial(iid_spw_function, server_win_probs={'A': 0.6, 'B': 0.5})"
   ]
  },
  {
   "cell_type": "code",
   "execution_count": null,
   "metadata": {},
   "outputs": [],
   "source": []
  },
  {
   "cell_type": "code",
   "execution_count": null,
   "metadata": {},
   "outputs": [],
   "source": [
    "n_runs = 10000\n",
    "\n",
    "winners = list()\n",
    "\n",
    "for i in range(n_runs):\n",
    "\n",
    "    state = {\n",
    "        'server': 'A',\n",
    "        'returner': 'B',\n",
    "        'games': {'A': 0, 'B': 0},\n",
    "        'points': {'A': 0, 'B': 0},\n",
    "        'sets': {'A': 0, 'B': 0}\n",
    "    }\n",
    "\n",
    "    winners.append(play_match(spw_fun, state))"
   ]
  },
  {
   "cell_type": "code",
   "execution_count": 36,
   "metadata": {},
   "outputs": [
    {
     "data": {
      "text/plain": [
       "A    1.0\n",
       "dtype: float64"
      ]
     },
     "execution_count": 36,
     "metadata": {},
     "output_type": "execute_result"
    }
   ],
   "source": [
    "pd.Series(winners).value_counts() / n_runs"
   ]
  },
  {
   "cell_type": "code",
   "execution_count": 27,
   "metadata": {},
   "outputs": [
    {
     "data": {
      "text/plain": [
       "0.9078449621581307"
      ]
     },
     "execution_count": 27,
     "metadata": {},
     "output_type": "execute_result"
    }
   ],
   "source": [
    "prob_win_match_a(0.6, 0.5, best_of_five=False)"
   ]
  },
  {
   "cell_type": "code",
   "execution_count": 28,
   "metadata": {},
   "outputs": [],
   "source": [
    "from tpr.iid.winning_prob import prob_win_match_a, prob_win_tiebreak_a, hold_serve_prob, prob_win_set_a"
   ]
  },
  {
   "cell_type": "code",
   "execution_count": 31,
   "metadata": {},
   "outputs": [],
   "source": [
    "n_runs = 10000\n",
    "\n",
    "set_winners = list()\n",
    "\n",
    "for i in range(n_runs):\n",
    "\n",
    "    state = {\n",
    "        'server': 'A',\n",
    "        'returner': 'B',\n",
    "        'games': {'A': 0, 'B': 0},\n",
    "        'points': {'A': 0, 'B': 0},\n",
    "        'sets': {'A': 0, 'B': 0}\n",
    "    }\n",
    "\n",
    "    set_winners.append(play_set(spw_fun, state)[0])"
   ]
  },
  {
   "cell_type": "code",
   "execution_count": 32,
   "metadata": {},
   "outputs": [
    {
     "data": {
      "text/plain": [
       "A    8124\n",
       "B    1876\n",
       "dtype: int64"
      ]
     },
     "execution_count": 32,
     "metadata": {},
     "output_type": "execute_result"
    }
   ],
   "source": [
    "pd.Series(set_winners).value_counts()"
   ]
  },
  {
   "cell_type": "code",
   "execution_count": 33,
   "metadata": {},
   "outputs": [
    {
     "data": {
      "text/plain": [
       "0.8126423933605851"
      ]
     },
     "execution_count": 33,
     "metadata": {},
     "output_type": "execute_result"
    }
   ],
   "source": [
    "prob_win_set_a(0.6, 0.5)"
   ]
  },
  {
   "cell_type": "code",
   "execution_count": 11,
   "metadata": {},
   "outputs": [],
   "source": [
    "tb_winners = list()\n",
    "\n",
    "for i in range(10000):\n",
    "\n",
    "    state = {\n",
    "        'server': 'A',\n",
    "        'returner': 'B',\n",
    "        'games': {'A': 0, 'B': 0},\n",
    "        'points': {'A': 0, 'B': 0},\n",
    "        'sets': {'A': 0, 'B': 0}\n",
    "    }\n",
    "\n",
    "    tb_winners.append(play_tiebreak(spw_fun, state)[0])"
   ]
  },
  {
   "cell_type": "code",
   "execution_count": 12,
   "metadata": {},
   "outputs": [
    {
     "data": {
      "text/plain": [
       "A    6512\n",
       "B    3488\n",
       "dtype: int64"
      ]
     },
     "execution_count": 12,
     "metadata": {},
     "output_type": "execute_result"
    }
   ],
   "source": [
    "pd.Series(tb_winners).value_counts()"
   ]
  },
  {
   "cell_type": "code",
   "execution_count": 13,
   "metadata": {},
   "outputs": [
    {
     "data": {
      "text/plain": [
       "0.6550619999999998"
      ]
     },
     "execution_count": 13,
     "metadata": {},
     "output_type": "execute_result"
    }
   ],
   "source": [
    "prob_win_tiebreak_a(0.6, 0.5)"
   ]
  },
  {
   "cell_type": "code",
   "execution_count": 14,
   "metadata": {},
   "outputs": [],
   "source": [
    "sg_winners = list()\n",
    "\n",
    "for i in range(10000):\n",
    "\n",
    "    state = {\n",
    "        'server': 'A',\n",
    "        'returner': 'B',\n",
    "        'games': {'A': 0, 'B': 0},\n",
    "        'points': {'A': 0, 'B': 0},\n",
    "        'sets': {'A': 0, 'B': 0}\n",
    "    }\n",
    "\n",
    "    sg_winners.append(play_service_game(spw_fun, state)[0])"
   ]
  },
  {
   "cell_type": "code",
   "execution_count": 15,
   "metadata": {},
   "outputs": [
    {
     "data": {
      "text/plain": [
       "A    7347\n",
       "B    2653\n",
       "dtype: int64"
      ]
     },
     "execution_count": 15,
     "metadata": {},
     "output_type": "execute_result"
    }
   ],
   "source": [
    "pd.Series(sg_winners).value_counts()"
   ]
  },
  {
   "cell_type": "code",
   "execution_count": 16,
   "metadata": {},
   "outputs": [
    {
     "data": {
      "text/plain": [
       "0.7357292307692307"
      ]
     },
     "execution_count": 16,
     "metadata": {},
     "output_type": "execute_result"
    }
   ],
   "source": [
    "hold_serve_prob(0.6)"
   ]
  },
  {
   "cell_type": "code",
   "execution_count": null,
   "metadata": {},
   "outputs": [],
   "source": []
  }
 ],
 "metadata": {
  "kernelspec": {
   "display_name": "Python 3",
   "language": "python",
   "name": "python3"
  },
  "language_info": {
   "codemirror_mode": {
    "name": "ipython",
    "version": 3
   },
   "file_extension": ".py",
   "mimetype": "text/x-python",
   "name": "python",
   "nbconvert_exporter": "python",
   "pygments_lexer": "ipython3",
   "version": "3.7.9"
  }
 },
 "nbformat": 4,
 "nbformat_minor": 4
}
