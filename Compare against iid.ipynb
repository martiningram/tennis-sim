{
 "cells": [
  {
   "cell_type": "code",
   "execution_count": 1,
   "metadata": {},
   "outputs": [],
   "source": [
    "from simulate import play_service_game, iid_spw_function, play_tiebreak, play_set, play_match\n",
    "from functools import partial\n",
    "import pandas as pd\n",
    "\n",
    "spw_fun = partial(iid_spw_function, server_win_probs={'A': 0.6, 'B': 0.5})"
   ]
  },
  {
   "cell_type": "code",
   "execution_count": 37,
   "metadata": {},
   "outputs": [],
   "source": [
    "n_runs = 10000\n",
    "\n",
    "winners = list()\n",
    "\n",
    "for i in range(n_runs):\n",
    "\n",
    "    state = {\n",
    "        'server': 'A',\n",
    "        'returner': 'B',\n",
    "        'games': {'A': 0, 'B': 0},\n",
    "        'points': {'A': 0, 'B': 0},\n",
    "        'sets': {'A': 0, 'B': 0}\n",
    "    }\n",
    "\n",
    "    winners.append(play_match(spw_fun, state))"
   ]
  },
  {
   "cell_type": "code",
   "execution_count": 38,
   "metadata": {},
   "outputs": [
    {
     "data": {
      "text/plain": [
       "A    0.9076\n",
       "B    0.0924\n",
       "dtype: float64"
      ]
     },
     "execution_count": 38,
     "metadata": {},
     "output_type": "execute_result"
    }
   ],
   "source": [
    "pd.Series(winners).value_counts() / n_runs"
   ]
  },
  {
   "cell_type": "code",
   "execution_count": 39,
   "metadata": {},
   "outputs": [
    {
     "data": {
      "text/plain": [
       "0.9078449621581307"
      ]
     },
     "execution_count": 39,
     "metadata": {},
     "output_type": "execute_result"
    }
   ],
   "source": [
    "prob_win_match_a(0.6, 0.5, best_of_five=False)"
   ]
  },
  {
   "cell_type": "code",
   "execution_count": 40,
   "metadata": {},
   "outputs": [],
   "source": [
    "from tpr.iid.winning_prob import prob_win_match_a, prob_win_tiebreak_a, hold_serve_prob, prob_win_set_a"
   ]
  },
  {
   "cell_type": "code",
   "execution_count": 41,
   "metadata": {},
   "outputs": [],
   "source": [
    "n_runs = 10000\n",
    "\n",
    "set_winners = list()\n",
    "\n",
    "for i in range(n_runs):\n",
    "\n",
    "    state = {\n",
    "        'server': 'A',\n",
    "        'returner': 'B',\n",
    "        'games': {'A': 0, 'B': 0},\n",
    "        'points': {'A': 0, 'B': 0},\n",
    "        'sets': {'A': 0, 'B': 0}\n",
    "    }\n",
    "\n",
    "    set_winners.append(play_set(spw_fun, state)[0])"
   ]
  },
  {
   "cell_type": "code",
   "execution_count": 42,
   "metadata": {},
   "outputs": [
    {
     "data": {
      "text/plain": [
       "A    8107\n",
       "B    1893\n",
       "dtype: int64"
      ]
     },
     "execution_count": 42,
     "metadata": {},
     "output_type": "execute_result"
    }
   ],
   "source": [
    "pd.Series(set_winners).value_counts()"
   ]
  },
  {
   "cell_type": "code",
   "execution_count": 43,
   "metadata": {},
   "outputs": [
    {
     "data": {
      "text/plain": [
       "0.8126423933605851"
      ]
     },
     "execution_count": 43,
     "metadata": {},
     "output_type": "execute_result"
    }
   ],
   "source": [
    "prob_win_set_a(0.6, 0.5)"
   ]
  },
  {
   "cell_type": "code",
   "execution_count": 44,
   "metadata": {},
   "outputs": [],
   "source": [
    "tb_winners = list()\n",
    "\n",
    "for i in range(10000):\n",
    "\n",
    "    state = {\n",
    "        'server': 'A',\n",
    "        'returner': 'B',\n",
    "        'games': {'A': 0, 'B': 0},\n",
    "        'points': {'A': 0, 'B': 0},\n",
    "        'sets': {'A': 0, 'B': 0}\n",
    "    }\n",
    "\n",
    "    tb_winners.append(play_tiebreak(spw_fun, state)[0])"
   ]
  },
  {
   "cell_type": "code",
   "execution_count": 45,
   "metadata": {},
   "outputs": [
    {
     "data": {
      "text/plain": [
       "A    6573\n",
       "B    3427\n",
       "dtype: int64"
      ]
     },
     "execution_count": 45,
     "metadata": {},
     "output_type": "execute_result"
    }
   ],
   "source": [
    "pd.Series(tb_winners).value_counts()"
   ]
  },
  {
   "cell_type": "code",
   "execution_count": 46,
   "metadata": {},
   "outputs": [
    {
     "data": {
      "text/plain": [
       "0.6550619999999998"
      ]
     },
     "execution_count": 46,
     "metadata": {},
     "output_type": "execute_result"
    }
   ],
   "source": [
    "prob_win_tiebreak_a(0.6, 0.5)"
   ]
  },
  {
   "cell_type": "code",
   "execution_count": 47,
   "metadata": {},
   "outputs": [],
   "source": [
    "sg_winners = list()\n",
    "\n",
    "for i in range(10000):\n",
    "\n",
    "    state = {\n",
    "        'server': 'A',\n",
    "        'returner': 'B',\n",
    "        'games': {'A': 0, 'B': 0},\n",
    "        'points': {'A': 0, 'B': 0},\n",
    "        'sets': {'A': 0, 'B': 0}\n",
    "    }\n",
    "\n",
    "    sg_winners.append(play_service_game(spw_fun, state)[0])"
   ]
  },
  {
   "cell_type": "code",
   "execution_count": 48,
   "metadata": {},
   "outputs": [
    {
     "data": {
      "text/plain": [
       "A    7370\n",
       "B    2630\n",
       "dtype: int64"
      ]
     },
     "execution_count": 48,
     "metadata": {},
     "output_type": "execute_result"
    }
   ],
   "source": [
    "pd.Series(sg_winners).value_counts()"
   ]
  },
  {
   "cell_type": "code",
   "execution_count": 49,
   "metadata": {},
   "outputs": [
    {
     "data": {
      "text/plain": [
       "0.7357292307692307"
      ]
     },
     "execution_count": 49,
     "metadata": {},
     "output_type": "execute_result"
    }
   ],
   "source": [
    "hold_serve_prob(0.6)"
   ]
  },
  {
   "cell_type": "code",
   "execution_count": null,
   "metadata": {},
   "outputs": [],
   "source": []
  }
 ],
 "metadata": {
  "kernelspec": {
   "display_name": "Python 3",
   "language": "python",
   "name": "python3"
  },
  "language_info": {
   "codemirror_mode": {
    "name": "ipython",
    "version": 3
   },
   "file_extension": ".py",
   "mimetype": "text/x-python",
   "name": "python",
   "nbconvert_exporter": "python",
   "pygments_lexer": "ipython3",
   "version": "3.7.9"
  }
 },
 "nbformat": 4,
 "nbformat_minor": 4
}
